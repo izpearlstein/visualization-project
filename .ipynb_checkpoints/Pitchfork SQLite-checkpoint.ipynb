{
 "cells": [
  {
   "cell_type": "code",
   "execution_count": 1,
   "metadata": {},
   "outputs": [],
   "source": [
    "import sqlite3\n",
    "import pandas as pd"
   ]
  },
  {
   "cell_type": "code",
   "execution_count": 2,
   "metadata": {},
   "outputs": [],
   "source": [
    "# Create the connection\n",
    "conn = sqlite3.connect(r'database.sqlite')"
   ]
  },
  {
   "cell_type": "code",
   "execution_count": null,
   "metadata": {},
   "outputs": [],
   "source": [
    "# create the dataframe from a query\n",
    "all_df = pd.read_sql_query(\"select distinct r.*, g.genre, c.content \\\n",
    "from reviews r \\\n",
    "left join genres g on r.reviewid = g.reviewid \\\n",
    "left join content c on r.reviewid = c.reviewid\"\n",
    ", conn)"
   ]
  },
  {
   "cell_type": "code",
   "execution_count": null,
   "metadata": {
    "scrolled": true
   },
   "outputs": [],
   "source": [
    "all_df"
   ]
  },
  {
   "cell_type": "code",
   "execution_count": null,
   "metadata": {},
   "outputs": [],
   "source": [
    "all_df.to_sql(name='pitchfork_tb', con = conn, if_exists='replace', index = False)"
   ]
  },
  {
   "cell_type": "code",
   "execution_count": null,
   "metadata": {},
   "outputs": [],
   "source": [
    "merged_df = pd.read_sql_query(\"select * from pitchfork_tb\", conn)"
   ]
  },
  {
   "cell_type": "code",
   "execution_count": null,
   "metadata": {
    "scrolled": true
   },
   "outputs": [],
   "source": [
    "merged_df"
   ]
  },
  {
   "cell_type": "code",
   "execution_count": null,
   "metadata": {},
   "outputs": [],
   "source": [
    "con = conn\n",
    "cursor = con.cursor()\n",
    "cursor.execute(\"DROP table reviews;\")\n",
    "cursor.execute(\"DROP table years;\")\n",
    "cursor.execute(\"DROP table genres;\")\n",
    "cursor.execute(\"DROP table labels;\")\n",
    "cursor.execute(\"DROP table content;\")\n",
    "cursor.execute(\"DROP table pitchfork;\")\n",
    "cursor.execute(\"DROP table artists;\")"
   ]
  },
  {
   "cell_type": "code",
   "execution_count": 3,
   "metadata": {},
   "outputs": [
    {
     "name": "stdout",
     "output_type": "stream",
     "text": [
      "[('pitchfork_tb',)]\n"
     ]
    }
   ],
   "source": [
    "con = conn\n",
    "cursor = con.cursor()\n",
    "cursor.execute(\"SELECT name FROM sqlite_master WHERE type='table';\")\n",
    "print(cursor.fetchall())"
   ]
  },
  {
   "cell_type": "code",
   "execution_count": 5,
   "metadata": {},
   "outputs": [],
   "source": [
    "artist_df = pd.read_sql_query(\"select artist, title, pub_year, genre, score, content, url from pitchfork_tb where artist = 'massive attack'\", conn)"
   ]
  },
  {
   "cell_type": "code",
   "execution_count": 6,
   "metadata": {},
   "outputs": [
    {
     "data": {
      "text/html": [
       "<div>\n",
       "<style scoped>\n",
       "    .dataframe tbody tr th:only-of-type {\n",
       "        vertical-align: middle;\n",
       "    }\n",
       "\n",
       "    .dataframe tbody tr th {\n",
       "        vertical-align: top;\n",
       "    }\n",
       "\n",
       "    .dataframe thead th {\n",
       "        text-align: right;\n",
       "    }\n",
       "</style>\n",
       "<table border=\"1\" class=\"dataframe\">\n",
       "  <thead>\n",
       "    <tr style=\"text-align: right;\">\n",
       "      <th></th>\n",
       "      <th>artist</th>\n",
       "      <th>title</th>\n",
       "      <th>pub_year</th>\n",
       "      <th>genre</th>\n",
       "      <th>score</th>\n",
       "      <th>content</th>\n",
       "      <th>url</th>\n",
       "    </tr>\n",
       "  </thead>\n",
       "  <tbody>\n",
       "    <tr>\n",
       "      <th>0</th>\n",
       "      <td>massive attack</td>\n",
       "      <td>mezzanine</td>\n",
       "      <td>2017</td>\n",
       "      <td>electronic</td>\n",
       "      <td>9.3</td>\n",
       "      <td>“Trip-hop” eventually became a ’90s punchline,...</td>\n",
       "      <td>http://pitchfork.com/reviews/albums/22703-mezz...</td>\n",
       "    </tr>\n",
       "    <tr>\n",
       "      <th>1</th>\n",
       "      <td>massive attack</td>\n",
       "      <td>ritual spirit ep</td>\n",
       "      <td>2016</td>\n",
       "      <td>electronic</td>\n",
       "      <td>7.0</td>\n",
       "      <td>Massive Attack made not one but three of the d...</td>\n",
       "      <td>http://pitchfork.com/reviews/albums/21553-ritu...</td>\n",
       "    </tr>\n",
       "    <tr>\n",
       "      <th>2</th>\n",
       "      <td>massive attack</td>\n",
       "      <td>blue lines</td>\n",
       "      <td>2012</td>\n",
       "      <td>electronic</td>\n",
       "      <td>9.0</td>\n",
       "      <td>Listening to Massive Attack's debut album, Blu...</td>\n",
       "      <td>http://pitchfork.com/reviews/albums/17384-blue...</td>\n",
       "    </tr>\n",
       "    <tr>\n",
       "      <th>3</th>\n",
       "      <td>massive attack</td>\n",
       "      <td>atlas air ep</td>\n",
       "      <td>2010</td>\n",
       "      <td>electronic</td>\n",
       "      <td>5.0</td>\n",
       "      <td>Unlike their Bristol contemporaries-- Tricky w...</td>\n",
       "      <td>http://pitchfork.com/reviews/albums/14881-atla...</td>\n",
       "    </tr>\n",
       "    <tr>\n",
       "      <th>4</th>\n",
       "      <td>massive attack</td>\n",
       "      <td>heligoland</td>\n",
       "      <td>2010</td>\n",
       "      <td>electronic</td>\n",
       "      <td>5.0</td>\n",
       "      <td>For their first three albums, you could count ...</td>\n",
       "      <td>http://pitchfork.com/reviews/albums/13864-heli...</td>\n",
       "    </tr>\n",
       "    <tr>\n",
       "      <th>5</th>\n",
       "      <td>massive attack</td>\n",
       "      <td>splitting the atom</td>\n",
       "      <td>2009</td>\n",
       "      <td>electronic</td>\n",
       "      <td>4.4</td>\n",
       "      <td>In a recent interview, Massive Attack's Daddy ...</td>\n",
       "      <td>http://pitchfork.com/reviews/albums/13574-spli...</td>\n",
       "    </tr>\n",
       "    <tr>\n",
       "      <th>6</th>\n",
       "      <td>massive attack</td>\n",
       "      <td>collected</td>\n",
       "      <td>2006</td>\n",
       "      <td>electronic</td>\n",
       "      <td>8.3</td>\n",
       "      <td>The first time I flew from Syracuse to Baltimo...</td>\n",
       "      <td>http://pitchfork.com/reviews/albums/5137-colle...</td>\n",
       "    </tr>\n",
       "    <tr>\n",
       "      <th>7</th>\n",
       "      <td>massive attack</td>\n",
       "      <td>danny the dog ost</td>\n",
       "      <td>2004</td>\n",
       "      <td>electronic</td>\n",
       "      <td>3.0</td>\n",
       "      <td>Some folks will tell you that the English Chan...</td>\n",
       "      <td>http://pitchfork.com/reviews/albums/5136-danny...</td>\n",
       "    </tr>\n",
       "  </tbody>\n",
       "</table>\n",
       "</div>"
      ],
      "text/plain": [
       "           artist               title  pub_year       genre  score  \\\n",
       "0  massive attack           mezzanine      2017  electronic    9.3   \n",
       "1  massive attack    ritual spirit ep      2016  electronic    7.0   \n",
       "2  massive attack          blue lines      2012  electronic    9.0   \n",
       "3  massive attack        atlas air ep      2010  electronic    5.0   \n",
       "4  massive attack          heligoland      2010  electronic    5.0   \n",
       "5  massive attack  splitting the atom      2009  electronic    4.4   \n",
       "6  massive attack           collected      2006  electronic    8.3   \n",
       "7  massive attack   danny the dog ost      2004  electronic    3.0   \n",
       "\n",
       "                                             content  \\\n",
       "0  “Trip-hop” eventually became a ’90s punchline,...   \n",
       "1  Massive Attack made not one but three of the d...   \n",
       "2  Listening to Massive Attack's debut album, Blu...   \n",
       "3  Unlike their Bristol contemporaries-- Tricky w...   \n",
       "4  For their first three albums, you could count ...   \n",
       "5  In a recent interview, Massive Attack's Daddy ...   \n",
       "6  The first time I flew from Syracuse to Baltimo...   \n",
       "7  Some folks will tell you that the English Chan...   \n",
       "\n",
       "                                                 url  \n",
       "0  http://pitchfork.com/reviews/albums/22703-mezz...  \n",
       "1  http://pitchfork.com/reviews/albums/21553-ritu...  \n",
       "2  http://pitchfork.com/reviews/albums/17384-blue...  \n",
       "3  http://pitchfork.com/reviews/albums/14881-atla...  \n",
       "4  http://pitchfork.com/reviews/albums/13864-heli...  \n",
       "5  http://pitchfork.com/reviews/albums/13574-spli...  \n",
       "6  http://pitchfork.com/reviews/albums/5137-colle...  \n",
       "7  http://pitchfork.com/reviews/albums/5136-danny...  "
      ]
     },
     "execution_count": 6,
     "metadata": {},
     "output_type": "execute_result"
    }
   ],
   "source": [
    "artist_df"
   ]
  }
 ],
 "metadata": {
  "kernelspec": {
   "display_name": "Python 3",
   "language": "python",
   "name": "python3"
  },
  "language_info": {
   "codemirror_mode": {
    "name": "ipython",
    "version": 3
   },
   "file_extension": ".py",
   "mimetype": "text/x-python",
   "name": "python",
   "nbconvert_exporter": "python",
   "pygments_lexer": "ipython3",
   "version": "3.7.3"
  }
 },
 "nbformat": 4,
 "nbformat_minor": 2
}
